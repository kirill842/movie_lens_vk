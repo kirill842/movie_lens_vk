{
 "cells": [
  {
   "cell_type": "code",
   "execution_count": 1,
   "metadata": {},
   "outputs": [],
   "source": [
    "from tensorflow import keras\n",
    "from tensorflow.keras import layers\n",
    "import tensorflow as tf\n",
    "import pandas as pd\n",
    "import numpy as np\n",
    "from sklearn.neighbors import NearestNeighbors\n",
    "from sklearn.model_selection import train_test_split\n",
    "from keras.models import Model\n",
    "%matplotlib inline"
   ]
  },
  {
   "cell_type": "code",
   "execution_count": 2,
   "metadata": {},
   "outputs": [],
   "source": [
    "from urllib.request import urlretrieve\n",
    "import zipfile"
   ]
  },
  {
   "cell_type": "code",
   "execution_count": 3,
   "metadata": {},
   "outputs": [],
   "source": [
    "# Загрузим MovieLens данные. Миллионы данных слишком много для моей машины, поэтому я возьму датасет поменьше\n",
    "urlretrieve(\"http://files.grouplens.org/datasets/movielens/ml-100k.zip\", \"movielens.zip\")\n",
    "zip_ref = zipfile.ZipFile('movielens.zip', \"r\")\n",
    "zip_ref.extractall()\n",
    "users_cols = ['user_id', 'age', 'sex', 'occupation', 'zip_code']\n",
    "users = pd.read_csv('ml-100k/u.user', sep='|', names=users_cols, encoding='latin-1')\n",
    "ratings_cols = ['user_id', 'movie_id', 'rating', 'unix_timestamp']\n",
    "ratings = pd.read_csv('ml-100k/u.data', sep='\\t', names=ratings_cols, encoding='latin-1')\n",
    "genre_cols = [\n",
    "    \"genre_unknown\", \"Action\", \"Adventure\", \"Animation\", \"Children\", \"Comedy\",\n",
    "    \"Crime\", \"Documentary\", \"Drama\", \"Fantasy\", \"Film-Noir\", \"Horror\",\n",
    "    \"Musical\", \"Mystery\", \"Romance\", \"Sci-Fi\", \"Thriller\", \"War\", \"Western\"\n",
    "]\n",
    "movies_cols = [\n",
    "    'movie_id', 'title', 'release_date', \"video_release_date\", \"imdb_url\"\n",
    "] + genre_cols\n",
    "movies = pd.read_csv(\n",
    "    'ml-100k/u.item', sep='|', names=movies_cols, encoding='latin-1')\n",
    "# Сдвинем индексы\n",
    "users[\"user_id\"] = users[\"user_id\"].apply(lambda x: int(x-1))\n",
    "movies[\"movie_id\"] = movies[\"movie_id\"].apply(lambda x: int(x-1))\n",
    "movies[\"year\"] = movies['release_date'].apply(lambda x: str(x).split('-')[-1])\n",
    "ratings[\"movie_id\"] = ratings[\"movie_id\"].apply(lambda x: int(x-1))\n",
    "ratings[\"user_id\"] = ratings[\"user_id\"].apply(lambda x: int(x-1))\n",
    "ratings[\"rating\"] = ratings[\"rating\"].apply(lambda x: float(x))"
   ]
  },
  {
   "cell_type": "code",
   "execution_count": 4,
   "metadata": {},
   "outputs": [],
   "source": [
    "# Создадим общий датафрейм\n",
    "movielens = ratings.merge(movies, on='movie_id').merge(users, on='user_id')"
   ]
  },
  {
   "cell_type": "code",
   "execution_count": 5,
   "metadata": {},
   "outputs": [],
   "source": [
    "# Поделим выборку на тестовую и тренировочную\n",
    "# \n",
    "# Валидационная выборка в моем случаем сопадает с тестовой, т.к. я не планирую перебирать гиперпараметры и буду тренировать\n",
    "# модель лишь на 4 эпохах\n",
    "# \n",
    "# В общем случае стоило бы сделать 2-ве дополнительных выборки,\n",
    "# одну для подбора гиперпараметров, а вторую для теста модели уже в конце\n",
    "train, test = train_test_split(movielens, test_size=0.1)"
   ]
  },
  {
   "cell_type": "code",
   "execution_count": 6,
   "metadata": {},
   "outputs": [],
   "source": [
    "# Получим константы для компиляции модели, чем больше EMBEDDING_SIZE, тем лучше будет метрика модели,\n",
    "# на примере я буду обучать при EMBEDDING_SIZE = 10, в общем случае надо брать больше\n",
    "ROW_COUNT = train.shape[0]\n",
    "EMBEDDING_SIZE = 10\n",
    "NUM_USERS = movielens['user_id'].nunique()\n",
    "NUM_MOVIES = movielens['movie_id'].nunique()\n",
    "UNIQUE_MOVIE_IDS = movielens['movie_id'].unique()"
   ]
  },
  {
   "cell_type": "code",
   "execution_count": 17,
   "metadata": {},
   "outputs": [],
   "source": [
    "# Я определяю четырехслойную глубокую нейронную сеть. \n",
    "# Внутри модели есть две подмодели — movie_model и user_model\n",
    "# Я определил модель именно так, чтобы после обучения модели мы могли извлечь эмбеддинги\n",
    "# После каждого полносвязного слоя применяется функция активации ReLU\n",
    "# Также в модель были введены Дропауты для уменьшения дисперсии модели\n",
    "# Метрику буду использовать стандартную для задач регрессии - MSE\n",
    "def MyRecModel(EMBEDDING_SIZE, NUM_MOVIES, NUM_USERS, ROW_COUNT):\n",
    "    movie_input = keras.Input(shape=(1,))\n",
    "\n",
    "    movie_emb = layers.Embedding(output_dim=EMBEDDING_SIZE, input_dim=NUM_MOVIES, input_length=ROW_COUNT)(movie_input)\n",
    "    movie_vec = layers.Flatten()(movie_emb)\n",
    "\n",
    "    movie_model = keras.Model(inputs=movie_input, outputs=movie_vec)\n",
    "    \n",
    "    user_input = keras.Input(shape=(1,))\n",
    "\n",
    "    user_emb = layers.Embedding(output_dim=EMBEDDING_SIZE, input_dim=NUM_USERS, input_length=ROW_COUNT)(user_input)\n",
    "    user_vec = layers.Flatten()(user_emb)\n",
    "\n",
    "    user_model = keras.Model(inputs=user_input, outputs=user_vec)\n",
    "    \n",
    "    merged = layers.Dot(normalize=True, axes=2)([movie_emb, user_emb])\n",
    "    merged_dropout = layers.Dropout(0.2)(merged)\n",
    "    \n",
    "    \n",
    "    dense_1 = layers.Dense(80, name='FC-1', activation='relu')(merged)\n",
    "    dropout_1 = layers.Dropout(0.2, name='Dropout-1')(dense_1)\n",
    "\n",
    "    dense_2 = layers.Dense(80, name='FC-2', activation='relu')(dropout_1)\n",
    "    dropout_2 = layers.Dropout(0.2, name='Dropout-2')(dense_2)\n",
    "\n",
    "    dense_3 = keras.layers.Dense(80, name='FC-3', activation='relu')(dropout_2)\n",
    "    dropout_3 = keras.layers.Dropout(0.2, name='Dropout-3')(dense_3)\n",
    "\n",
    "    dense_4 = keras.layers.Dense(80, name='FC-4', activation='relu')(dropout_3)\n",
    "\n",
    "    result = layers.Dense(1, name='output') (dense_4)\n",
    "\n",
    "    adam = keras.optimizers.Adam(learning_rate=0.0001)\n",
    "    model = keras.Model([movie_input, user_input], result)\n",
    "    model.compile(optimizer=adam,loss= 'mean_absolute_error')\n",
    "    return model, movie_model, user_model"
   ]
  },
  {
   "cell_type": "code",
   "execution_count": 18,
   "metadata": {},
   "outputs": [],
   "source": [
    "# Скомпилируем модель\n",
    "model, movie_model, user_model = MyRecModel(EMBEDDING_SIZE, NUM_MOVIES, NUM_USERS, ROW_COUNT)"
   ]
  },
  {
   "cell_type": "code",
   "execution_count": 19,
   "metadata": {},
   "outputs": [
    {
     "name": "stdout",
     "output_type": "stream",
     "text": [
      "Epoch 1/4\n",
      "900/900 [==============================] - 6s 6ms/step - loss: 1.4133 - val_loss: 0.9250\n",
      "Epoch 2/4\n",
      "900/900 [==============================] - 5s 6ms/step - loss: 0.9616 - val_loss: 0.9271\n",
      "Epoch 3/4\n",
      "900/900 [==============================] - 5s 6ms/step - loss: 0.9509 - val_loss: 0.9363\n",
      "Epoch 4/4\n",
      "900/900 [==============================] - 5s 6ms/step - loss: 0.9387 - val_loss: 0.9200\n"
     ]
    }
   ],
   "source": [
    "# Для примера я обучаю модель на 4 эпохах, в общем случае надо больше, хотя бы 100\n",
    "history = model.fit([train.movie_id, train.user_id],train.rating, batch_size=100,\n",
    "                    epochs=4, validation_data = ([test.movie_id, test.user_id],test.rating), \n",
    "                    verbose=1)"
   ]
  },
  {
   "cell_type": "code",
   "execution_count": 20,
   "metadata": {},
   "outputs": [
    {
     "data": {
      "image/png": "[encoded data removed]",
      "text/plain": [
       "<Figure size 640x480 with 1 Axes>"
      ]
     },
     "metadata": {},
     "output_type": "display_data"
    }
   ],
   "source": [
    "# Построим кривую лосса\n",
    "from pylab import rcParams\n",
    "import matplotlib.pyplot as plt\n",
    "plt.plot(history.history['loss'] , 'b')\n",
    "plt.title('Ошибка модели')\n",
    "plt.ylabel('ошибка')\n",
    "plt.xlabel('эпохи')\n",
    "plt.legend(['train'], loc='best')\n",
    "plt.grid(True)\n",
    "plt.show()"
   ]
  },
  {
   "cell_type": "code",
   "execution_count": 21,
   "metadata": {},
   "outputs": [
    {
     "name": "stdout",
     "output_type": "stream",
     "text": [
      "53/53 [==============================] - 0s 848us/step\n",
      "30/30 [==============================] - 0s 900us/step\n"
     ]
    }
   ],
   "source": [
    "# Получим эмбеддинги фильмов и пользователей из модели\n",
    "movie_embeddings = movie_model.predict(UNIQUE_MOVIE_IDS)\n",
    "user_embeddings = user_model.predict(np.unique(train.user_id))"
   ]
  },
  {
   "cell_type": "code",
   "execution_count": 22,
   "metadata": {},
   "outputs": [
    {
     "data": {
      "text/plain": [
       "(1682, 10)"
      ]
     },
     "execution_count": 22,
     "metadata": {},
     "output_type": "execute_result"
    }
   ],
   "source": [
    "movie_embeddings.shape"
   ]
  },
  {
   "cell_type": "code",
   "execution_count": 23,
   "metadata": {},
   "outputs": [
    {
     "data": {
      "text/plain": [
       "array([[-0.01463892,  0.02268028,  0.00929056, ..., -0.01068565,\n",
       "         0.02888579,  0.05290078],\n",
       "       [-0.03621806,  0.04523977, -0.04229438, ..., -0.00022798,\n",
       "        -0.02049305,  0.00279207],\n",
       "       [ 0.02177432, -0.02757544, -0.01628623, ..., -0.05131747,\n",
       "         0.01186923, -0.00730504],\n",
       "       ...,\n",
       "       [-0.01945971, -0.02466303, -0.03598614, ..., -0.01569827,\n",
       "        -0.00358397, -0.04452492],\n",
       "       [-0.01021344, -0.04905437,  0.0014668 , ...,  0.02622364,\n",
       "         0.00773439,  0.02139423],\n",
       "       [ 0.04202262, -0.02898257, -0.01536005, ...,  0.00222034,\n",
       "         0.04384011, -0.00655439]], dtype=float32)"
      ]
     },
     "execution_count": 23,
     "metadata": {},
     "output_type": "execute_result"
    }
   ],
   "source": [
    "# Эмбеддинги фильмов\n",
    "movie_embeddings"
   ]
  },
  {
   "cell_type": "code",
   "execution_count": 24,
   "metadata": {},
   "outputs": [
    {
     "data": {
      "text/plain": [
       "(943, 10)"
      ]
     },
     "execution_count": 24,
     "metadata": {},
     "output_type": "execute_result"
    }
   ],
   "source": [
    "user_embeddings.shape"
   ]
  },
  {
   "cell_type": "code",
   "execution_count": 25,
   "metadata": {},
   "outputs": [
    {
     "data": {
      "text/plain": [
       "array([[ 4.04761881e-02, -3.77729274e-02,  4.23338352e-04, ...,\n",
       "         3.20076421e-02, -3.78226750e-02, -6.30280841e-03],\n",
       "       [-1.07144285e-03, -4.78504517e-04,  1.02972996e-03, ...,\n",
       "        -5.16932011e-02,  1.51262656e-02,  5.02096526e-02],\n",
       "       [ 7.55974761e-05, -1.87876187e-02, -4.24352325e-02, ...,\n",
       "         3.49533148e-02, -6.89095166e-03,  5.57508022e-02],\n",
       "       ...,\n",
       "       [-2.78810114e-02, -2.23194226e-03,  2.37095356e-02, ...,\n",
       "         3.88851063e-03,  3.58915925e-02, -1.47054745e-02],\n",
       "       [ 2.98926197e-02,  3.25475074e-02,  3.89462081e-03, ...,\n",
       "        -3.34096365e-02,  2.45810058e-02, -6.27305824e-03],\n",
       "       [-3.52778360e-02,  2.21713129e-02, -3.74471135e-02, ...,\n",
       "        -4.24650358e-03,  2.61892825e-02,  3.95341963e-02]], dtype=float32)"
      ]
     },
     "execution_count": 25,
     "metadata": {},
     "output_type": "execute_result"
    }
   ],
   "source": [
    "# Эмбеддинги пользователей\n",
    "user_embeddings"
   ]
  },
  {
   "cell_type": "code",
   "execution_count": 26,
   "metadata": {},
   "outputs": [],
   "source": [
    "# Далее можно использовать KNN и рекомендовать пользователям фильмы"
   ]
  }
 ],
 "metadata": {
  "kernelspec": {
   "display_name": "Python 3 (ipykernel)",
   "language": "python",
   "name": "python3"
  },
  "language_info": {
   "codemirror_mode": {
    "name": "ipython",
    "version": 3
   },
   "file_extension": ".py",
   "mimetype": "text/x-python",
   "name": "python",
   "nbconvert_exporter": "python",
   "pygments_lexer": "ipython3",
   "version": "3.9.15"
  }
 },
 "nbformat": 4,
 "nbformat_minor": 2
}
