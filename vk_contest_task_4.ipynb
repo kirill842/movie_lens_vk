{
 "cells": [
  {
   "cell_type": "code",
   "execution_count": 79,
   "id": "9460ce30",
   "metadata": {},
   "outputs": [],
   "source": [
    "import tensorflow as tf\n",
    "from tensorflow import keras\n",
    "from tensorflow.keras import layers\n",
    "import pandas as pd\n",
    "import numpy as np\n",
    "from sklearn.model_selection import train_test_split"
   ]
  },
  {
   "cell_type": "code",
   "execution_count": 59,
   "id": "34759dc9",
   "metadata": {},
   "outputs": [],
   "source": [
    "path = './ml-latest/'\n",
    "df = pd.read_csv(path + 'ratings.csv')"
   ]
  },
  {
   "cell_type": "code",
   "execution_count": 80,
   "id": "289b56ca",
   "metadata": {},
   "outputs": [
    {
     "data": {
      "text/html": [
       "<div>\n",
       "<style scoped>\n",
       "    .dataframe tbody tr th:only-of-type {\n",
       "        vertical-align: middle;\n",
       "    }\n",
       "\n",
       "    .dataframe tbody tr th {\n",
       "        vertical-align: top;\n",
       "    }\n",
       "\n",
       "    .dataframe thead th {\n",
       "        text-align: right;\n",
       "    }\n",
       "</style>\n",
       "<table border=\"1\" class=\"dataframe\">\n",
       "  <thead>\n",
       "    <tr style=\"text-align: right;\">\n",
       "      <th></th>\n",
       "      <th>userId</th>\n",
       "      <th>movieId</th>\n",
       "      <th>rating</th>\n",
       "      <th>timestamp</th>\n",
       "    </tr>\n",
       "  </thead>\n",
       "  <tbody>\n",
       "    <tr>\n",
       "      <th>0</th>\n",
       "      <td>1</td>\n",
       "      <td>307</td>\n",
       "      <td>3.5</td>\n",
       "      <td>1256677221</td>\n",
       "    </tr>\n",
       "    <tr>\n",
       "      <th>1</th>\n",
       "      <td>1</td>\n",
       "      <td>481</td>\n",
       "      <td>3.5</td>\n",
       "      <td>1256677456</td>\n",
       "    </tr>\n",
       "    <tr>\n",
       "      <th>2</th>\n",
       "      <td>1</td>\n",
       "      <td>1091</td>\n",
       "      <td>1.5</td>\n",
       "      <td>1256677471</td>\n",
       "    </tr>\n",
       "    <tr>\n",
       "      <th>3</th>\n",
       "      <td>1</td>\n",
       "      <td>1257</td>\n",
       "      <td>4.5</td>\n",
       "      <td>1256677460</td>\n",
       "    </tr>\n",
       "    <tr>\n",
       "      <th>4</th>\n",
       "      <td>1</td>\n",
       "      <td>1449</td>\n",
       "      <td>4.5</td>\n",
       "      <td>1256677264</td>\n",
       "    </tr>\n",
       "    <tr>\n",
       "      <th>...</th>\n",
       "      <td>...</td>\n",
       "      <td>...</td>\n",
       "      <td>...</td>\n",
       "      <td>...</td>\n",
       "    </tr>\n",
       "    <tr>\n",
       "      <th>27753439</th>\n",
       "      <td>283228</td>\n",
       "      <td>8542</td>\n",
       "      <td>4.5</td>\n",
       "      <td>1379882795</td>\n",
       "    </tr>\n",
       "    <tr>\n",
       "      <th>27753440</th>\n",
       "      <td>283228</td>\n",
       "      <td>8712</td>\n",
       "      <td>4.5</td>\n",
       "      <td>1379882751</td>\n",
       "    </tr>\n",
       "    <tr>\n",
       "      <th>27753441</th>\n",
       "      <td>283228</td>\n",
       "      <td>34405</td>\n",
       "      <td>4.5</td>\n",
       "      <td>1379882889</td>\n",
       "    </tr>\n",
       "    <tr>\n",
       "      <th>27753442</th>\n",
       "      <td>283228</td>\n",
       "      <td>44761</td>\n",
       "      <td>4.5</td>\n",
       "      <td>1354159524</td>\n",
       "    </tr>\n",
       "    <tr>\n",
       "      <th>27753443</th>\n",
       "      <td>283228</td>\n",
       "      <td>54286</td>\n",
       "      <td>4.5</td>\n",
       "      <td>1354159718</td>\n",
       "    </tr>\n",
       "  </tbody>\n",
       "</table>\n",
       "<p>27753444 rows × 4 columns</p>\n",
       "</div>"
      ],
      "text/plain": [
       "          userId  movieId  rating   timestamp\n",
       "0              1      307     3.5  1256677221\n",
       "1              1      481     3.5  1256677456\n",
       "2              1     1091     1.5  1256677471\n",
       "3              1     1257     4.5  1256677460\n",
       "4              1     1449     4.5  1256677264\n",
       "...          ...      ...     ...         ...\n",
       "27753439  283228     8542     4.5  1379882795\n",
       "27753440  283228     8712     4.5  1379882751\n",
       "27753441  283228    34405     4.5  1379882889\n",
       "27753442  283228    44761     4.5  1354159524\n",
       "27753443  283228    54286     4.5  1354159718\n",
       "\n",
       "[27753444 rows x 4 columns]"
      ]
     },
     "execution_count": 80,
     "metadata": {},
     "output_type": "execute_result"
    }
   ],
   "source": [
    "# Посмотрим на датасет\n",
    "df"
   ]
  },
  {
   "cell_type": "code",
   "execution_count": 64,
   "id": "3ba48a43",
   "metadata": {},
   "outputs": [],
   "source": [
    "# Сформируем функцию для компиляции модели рекомендаций\n",
    "# Оптимизатор будем использовать Adam\n",
    "# Метрику - MSE\n",
    "def EmbeddingRec(EMBEDDING_SIZE, NUM_MOVIES, NUM_USERS, ROW_COUNT):\n",
    "    movie_input = keras.Input(shape=(1,), name='movie_id')\n",
    "\n",
    "    movie_emb = layers.Embedding(output_dim=EMBEDDING_SIZE, input_dim=NUM_MOVIES, input_length=ROW_COUNT, name='movie_emb')(movie_input)\n",
    "    movie_vec = layers.Flatten(name='FlattenMovie')(movie_emb)\n",
    "\n",
    "    movie_model = keras.Model(inputs=movie_input, outputs=movie_vec)\n",
    "    \n",
    "    user_input = keras.Input(shape=(1,), name='user_id')\n",
    "\n",
    "    user_emb = layers.Embedding(output_dim=EMBEDDING_SIZE, input_dim=NUM_USERS, input_length=ROW_COUNT, name='user_emb')(user_input)\n",
    "    user_vec = layers.Flatten(name='FlattenUser')(user_emb)\n",
    "\n",
    "    user_model = keras.Model(inputs=user_input, outputs=user_vec)\n",
    "    \n",
    "    merged = layers.Dot(name = 'dot_product', normalize = True, axes = 2)([movie_emb, user_emb])\n",
    "    merged_dropout = layers.Dropout(0.2)(merged)\n",
    "    \n",
    "    \n",
    "    dense_1 = layers.Dense(70,name='FullyConnected-1')(merged)\n",
    "    dropout_1 = layers.Dropout(0.2,name='Dropout_1')(dense_1)\n",
    "\n",
    "    dense_2 = layers.Dense(50,name='FullyConnected-2')(dropout_1)\n",
    "    dropout_2 = layers.Dropout(0.2,name='Dropout_2')(dense_2)\n",
    "\n",
    "    dense_3 = keras.layers.Dense(20,name='FullyConnected-3')(dropout_2)\n",
    "    dropout_3 = keras.layers.Dropout(0.2,name='Dropout_3')(dense_3)\n",
    "\n",
    "    dense_4 = keras.layers.Dense(10,name='FullyConnected-4', activation='relu')(dropout_3)\n",
    "\n",
    "    result = layers.Dense(1, name='result', activation=\"relu\") (dense_4)\n",
    "\n",
    "    adam = keras.optimizers.Adam(learning_rate=0.001)\n",
    "    model = keras.Model([movie_input, user_input], result)\n",
    "    model.compile(optimizer=adam, loss='mean_absolute_error')\n",
    "    return model, movie_model, user_model"
   ]
  },
  {
   "cell_type": "code",
   "execution_count": 248,
   "id": "24d94d9a",
   "metadata": {},
   "outputs": [],
   "source": [
    "# Возьмем случайную выборку из датасета размером в 250000 элементов\n",
    "df_reduced = df.sample(n=1000000, random_state=50)"
   ]
  },
  {
   "cell_type": "code",
   "execution_count": 249,
   "id": "09f146c9",
   "metadata": {},
   "outputs": [],
   "source": [
    "# Возьмем индексы тех элементов, которые присутствуют в нашей выборке в кол-ве, больше чем 1,\n",
    "# чтобы правильно поделить нашу выборку на тренировочную и тестовую\n",
    "df_mask = df_reduced['userId'].groupby(df_reduced['userId']).count() > 5\n",
    "userIds_more_than_1 = df_mask[df_mask == True].index.to_numpy()\n",
    "userIds_more_than_1 = set(userIds_more_than_1)"
   ]
  },
  {
   "cell_type": "code",
   "execution_count": 250,
   "id": "ed62a955",
   "metadata": {},
   "outputs": [],
   "source": [
    "# Сформируем маску, чтобы выбрать из нашей выборки только те элементы, которые присутствуют\n",
    "# в выборке в кол-ве, больше чем 1\n",
    "mask = []\n",
    "for index, row in df_reduced.iterrows():\n",
    "    if row['userId'] in userIds_more_than_1:\n",
    "        mask.append(True)\n",
    "    else:\n",
    "        mask.append(False)"
   ]
  },
  {
   "cell_type": "code",
   "execution_count": 251,
   "id": "79b7b336",
   "metadata": {},
   "outputs": [],
   "source": [
    "# Применим маску\n",
    "df_reduced_filtered = df_reduced[mask]"
   ]
  },
  {
   "cell_type": "code",
   "execution_count": 252,
   "id": "9b651087",
   "metadata": {},
   "outputs": [],
   "source": [
    "# Поделим выборку на тренировочную и валидационную\n",
    "# \n",
    "# Валидационная выборка в моем случаем сопадает с тестовой, т.к. я не планирую перебирать гиперпараметры и буду тренировать\n",
    "# модель лишь на 1-ой эпохе\n",
    "# \n",
    "# В общем случае стоило бы сделать 2-ве дополнительных выборки,\n",
    "# одну для подбора гиперпараметров, а вторую для теста модели уже в конце\n",
    "X_train, X_test, y_train, y_test = train_test_split(df_reduced_filtered.iloc[:, 0:2], df_reduced_filtered.iloc[:, 2], stratify=df_reduced_filtered.iloc[:, 0], test_size=0.3)"
   ]
  },
  {
   "cell_type": "code",
   "execution_count": 253,
   "id": "3c00e957",
   "metadata": {},
   "outputs": [],
   "source": [
    "# Возьмем необходимую информацию из выборки для компиляции модели\n",
    "NUM_MOVIES = len(np.unique(df_reduced_filtered['movieId']))\n",
    "NUM_USERS = len(np.unique(df_reduced_filtered['userId']))\n",
    "ROW_COUNT = len(df_reduced_filtered)"
   ]
  },
  {
   "cell_type": "code",
   "execution_count": 254,
   "id": "74f09af5",
   "metadata": {},
   "outputs": [],
   "source": [
    "# В общем случае: model, movie_model, user_model = EmbeddingRec(100, len(np.unique(df['movieId'])), \n",
    "#                                                               len(np.unique(df['userId'])), 27753444)\n",
    "# \n",
    "# Скомпилируем модель\n",
    "model, movie_model, user_model = EmbeddingRec(10, NUM_MOVIES, NUM_USERS, ROW_COUNT)"
   ]
  },
  {
   "cell_type": "code",
   "execution_count": 255,
   "id": "b1e8c219",
   "metadata": {},
   "outputs": [
    {
     "data": {
      "image/png": "[encoded data removed]",
      "text/plain": [
       "<IPython.core.display.Image object>"
      ]
     },
     "execution_count": 255,
     "metadata": {},
     "output_type": "execute_result"
    }
   ],
   "source": [
    "keras.utils.plot_model(model, show_shapes=True) "
   ]
  },
  {
   "cell_type": "code",
   "execution_count": 208,
   "id": "b1685b2b",
   "metadata": {},
   "outputs": [],
   "source": [
    "# Для подхвата GPU со стороны Keras\n",
    "tf.debugging.set_log_device_placement(True)"
   ]
  },
  {
   "cell_type": "code",
   "execution_count": 257,
   "id": "8fbc71fa",
   "metadata": {
    "scrolled": false
   },
   "outputs": [
    {
     "name": "stdout",
     "output_type": "stream",
     "text": [
      "7797/7797 [==============================] - 68s 9ms/step - loss: 0.8265 - val_loss: 0.8270\n"
     ]
    }
   ],
   "source": [
    "# Обучим модель\n",
    "history = model.fit(\n",
    "    [X_train.iloc[:, 0], X_train.iloc[:, 1]],\n",
    "    y_train,\n",
    "    batch_size=64,\n",
    "    epochs=1,\n",
    "    validation_data=([X_test.iloc[:, 0], X_test.iloc[:, 1]], y_test),\n",
    ")"
   ]
  },
  {
   "cell_type": "code",
   "execution_count": 258,
   "id": "38f26e34",
   "metadata": {},
   "outputs": [
    {
     "name": "stdout",
     "output_type": "stream",
     "text": [
      "293/293 [==============================] - 0s 826us/step\n"
     ]
    }
   ],
   "source": [
    "# Сформируем эмбеддинги для всех фильмов из нашей выборки\n",
    "movie_embeddings = movie_model.predict(np.array(np.unique(X_train['movieId'])), batch_size=64) #.reshape(1,-1)[0]\n",
    "movie_embeddings.shape\n",
    "MOVIE_EMBEDDING_LIST = movie_embeddings"
   ]
  },
  {
   "cell_type": "code",
   "execution_count": 259,
   "id": "666586b9",
   "metadata": {},
   "outputs": [
    {
     "name": "stdout",
     "output_type": "stream",
     "text": [
      "1/1 [==============================] - 0s 52ms/step\n"
     ]
    },
    {
     "data": {
      "text/html": [
       "<div>\n",
       "<style scoped>\n",
       "    .dataframe tbody tr th:only-of-type {\n",
       "        vertical-align: middle;\n",
       "    }\n",
       "\n",
       "    .dataframe tbody tr th {\n",
       "        vertical-align: top;\n",
       "    }\n",
       "\n",
       "    .dataframe thead th {\n",
       "        text-align: right;\n",
       "    }\n",
       "</style>\n",
       "<table border=\"1\" class=\"dataframe\">\n",
       "  <thead>\n",
       "    <tr style=\"text-align: right;\">\n",
       "      <th></th>\n",
       "      <th>movie_id</th>\n",
       "    </tr>\n",
       "  </thead>\n",
       "  <tbody>\n",
       "    <tr>\n",
       "      <th>0</th>\n",
       "      <td>648</td>\n",
       "    </tr>\n",
       "    <tr>\n",
       "      <th>1</th>\n",
       "      <td>231</td>\n",
       "    </tr>\n",
       "    <tr>\n",
       "      <th>2</th>\n",
       "      <td>6996</td>\n",
       "    </tr>\n",
       "    <tr>\n",
       "      <th>3</th>\n",
       "      <td>2835</td>\n",
       "    </tr>\n",
       "    <tr>\n",
       "      <th>4</th>\n",
       "      <td>7240</td>\n",
       "    </tr>\n",
       "    <tr>\n",
       "      <th>5</th>\n",
       "      <td>6916</td>\n",
       "    </tr>\n",
       "    <tr>\n",
       "      <th>6</th>\n",
       "      <td>541</td>\n",
       "    </tr>\n",
       "    <tr>\n",
       "      <th>7</th>\n",
       "      <td>1482</td>\n",
       "    </tr>\n",
       "    <tr>\n",
       "      <th>8</th>\n",
       "      <td>3621</td>\n",
       "    </tr>\n",
       "    <tr>\n",
       "      <th>9</th>\n",
       "      <td>1188</td>\n",
       "    </tr>\n",
       "  </tbody>\n",
       "</table>\n",
       "</div>"
      ],
      "text/plain": [
       "   movie_id\n",
       "0       648\n",
       "1       231\n",
       "2      6996\n",
       "3      2835\n",
       "4      7240\n",
       "5      6916\n",
       "6       541\n",
       "7      1482\n",
       "8      3621\n",
       "9      1188"
      ]
     },
     "execution_count": 259,
     "metadata": {},
     "output_type": "execute_result"
    }
   ],
   "source": [
    "# Для примера возьмем рандомный номер из нашей выборки и сформируем эмбеддинг\n",
    "TEST_USER_ID = 214\n",
    "user_embedding = user_model.predict([TEST_USER_ID]).reshape(1,-1)[0]\n",
    "\n",
    "# Создадим KNeighborsClassifier из sklearn\n",
    "from sklearn.neighbors import KNeighborsClassifier\n",
    "clf = KNeighborsClassifier(n_neighbors=11)\n",
    "clf.fit(MOVIE_EMBEDDING_LIST, [0] * MOVIE_EMBEDDING_LIST.shape[0])\n",
    "\n",
    "def recommend_movies(embedding):\n",
    "    distances, indices = clf.kneighbors(embedding.reshape(1, -1),  n_neighbors=10)\n",
    "    indices = indices.reshape(10,1)\n",
    "    df_indices = pd.DataFrame(indices, columns = ['movie_id'])\n",
    "    return df_indices\n",
    "  \n",
    "# Получаем рекомендации\n",
    "recommend_movies(user_embedding)"
   ]
  },
  {
   "cell_type": "code",
   "execution_count": 260,
   "id": "a162f19a",
   "metadata": {},
   "outputs": [
    {
     "name": "stdout",
     "output_type": "stream",
     "text": [
      "15593/15593 [==============================] - 13s 833us/step\n"
     ]
    }
   ],
   "source": [
    "user_embeddinds = user_model.predict(X_train['userId'])"
   ]
  },
  {
   "cell_type": "code",
   "execution_count": 265,
   "id": "95389d81",
   "metadata": {},
   "outputs": [
    {
     "data": {
      "text/plain": [
       "48014"
      ]
     },
     "execution_count": 265,
     "metadata": {},
     "output_type": "execute_result"
    }
   ],
   "source": [
    "len(np.unique(X_train['userId']))"
   ]
  },
  {
   "cell_type": "code",
   "execution_count": 262,
   "id": "18e537b3",
   "metadata": {},
   "outputs": [
    {
     "data": {
      "text/plain": [
       "4095"
      ]
     },
     "execution_count": 262,
     "metadata": {},
     "output_type": "execute_result"
    }
   ],
   "source": [
    "len(np.unique(X_train['userId'][np.sum(user_embeddinds, axis=1) > 0]))"
   ]
  },
  {
   "cell_type": "code",
   "execution_count": 267,
   "id": "d9e9e8c7",
   "metadata": {},
   "outputs": [
    {
     "data": {
      "text/html": [
       "<div>\n",
       "<style scoped>\n",
       "    .dataframe tbody tr th:only-of-type {\n",
       "        vertical-align: middle;\n",
       "    }\n",
       "\n",
       "    .dataframe tbody tr th {\n",
       "        vertical-align: top;\n",
       "    }\n",
       "\n",
       "    .dataframe thead th {\n",
       "        text-align: right;\n",
       "    }\n",
       "</style>\n",
       "<table border=\"1\" class=\"dataframe\">\n",
       "  <thead>\n",
       "    <tr style=\"text-align: right;\">\n",
       "      <th></th>\n",
       "      <th>userId</th>\n",
       "      <th>movieId</th>\n",
       "    </tr>\n",
       "  </thead>\n",
       "  <tbody>\n",
       "    <tr>\n",
       "      <th>12302813</th>\n",
       "      <td>126040</td>\n",
       "      <td>45442</td>\n",
       "    </tr>\n",
       "    <tr>\n",
       "      <th>12475856</th>\n",
       "      <td>127832</td>\n",
       "      <td>1333</td>\n",
       "    </tr>\n",
       "    <tr>\n",
       "      <th>25675048</th>\n",
       "      <td>262297</td>\n",
       "      <td>3088</td>\n",
       "    </tr>\n",
       "    <tr>\n",
       "      <th>4716593</th>\n",
       "      <td>48404</td>\n",
       "      <td>47</td>\n",
       "    </tr>\n",
       "    <tr>\n",
       "      <th>12709929</th>\n",
       "      <td>130148</td>\n",
       "      <td>2266</td>\n",
       "    </tr>\n",
       "    <tr>\n",
       "      <th>...</th>\n",
       "      <td>...</td>\n",
       "      <td>...</td>\n",
       "    </tr>\n",
       "    <tr>\n",
       "      <th>4366278</th>\n",
       "      <td>44820</td>\n",
       "      <td>2108</td>\n",
       "    </tr>\n",
       "    <tr>\n",
       "      <th>10489071</th>\n",
       "      <td>107839</td>\n",
       "      <td>4878</td>\n",
       "    </tr>\n",
       "    <tr>\n",
       "      <th>18445001</th>\n",
       "      <td>188114</td>\n",
       "      <td>4896</td>\n",
       "    </tr>\n",
       "    <tr>\n",
       "      <th>2745744</th>\n",
       "      <td>28371</td>\n",
       "      <td>8721</td>\n",
       "    </tr>\n",
       "    <tr>\n",
       "      <th>1734507</th>\n",
       "      <td>17716</td>\n",
       "      <td>1265</td>\n",
       "    </tr>\n",
       "  </tbody>\n",
       "</table>\n",
       "<p>213848 rows × 2 columns</p>\n",
       "</div>"
      ],
      "text/plain": [
       "          userId  movieId\n",
       "12302813  126040    45442\n",
       "12475856  127832     1333\n",
       "25675048  262297     3088\n",
       "4716593    48404       47\n",
       "12709929  130148     2266\n",
       "...          ...      ...\n",
       "4366278    44820     2108\n",
       "10489071  107839     4878\n",
       "18445001  188114     4896\n",
       "2745744    28371     8721\n",
       "1734507    17716     1265\n",
       "\n",
       "[213848 rows x 2 columns]"
      ]
     },
     "execution_count": 267,
     "metadata": {},
     "output_type": "execute_result"
    }
   ],
   "source": [
    "X_test"
   ]
  },
  {
   "cell_type": "code",
   "execution_count": 268,
   "id": "1e7eaa40",
   "metadata": {},
   "outputs": [
    {
     "data": {
      "text/plain": [
       "12302813    3.0\n",
       "12475856    3.0\n",
       "25675048    3.5\n",
       "4716593     4.5\n",
       "12709929    2.0\n",
       "           ... \n",
       "4366278     3.5\n",
       "10489071    4.0\n",
       "18445001    4.5\n",
       "2745744     3.5\n",
       "1734507     5.0\n",
       "Name: rating, Length: 213848, dtype: float64"
      ]
     },
     "execution_count": 268,
     "metadata": {},
     "output_type": "execute_result"
    }
   ],
   "source": [
    "y_test"
   ]
  },
  {
   "cell_type": "code",
   "execution_count": null,
   "id": "25fa3d92",
   "metadata": {},
   "outputs": [],
   "source": []
  }
 ],
 "metadata": {
  "kernelspec": {
   "display_name": "Python 3 (ipykernel)",
   "language": "python",
   "name": "python3"
  },
  "language_info": {
   "codemirror_mode": {
    "name": "ipython",
    "version": 3
   },
   "file_extension": ".py",
   "mimetype": "text/x-python",
   "name": "python",
   "nbconvert_exporter": "python",
   "pygments_lexer": "ipython3",
   "version": "3.9.15"
  }
 },
 "nbformat": 4,
 "nbformat_minor": 5
}
